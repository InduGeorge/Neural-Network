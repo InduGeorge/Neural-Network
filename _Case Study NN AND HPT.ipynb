{
 "cells": [
  {
   "cell_type": "markdown",
   "id": "ce02242d",
   "metadata": {},
   "source": [
    "# CASE STUDY ON NUERAL NETWORK AND HYPER PARAMETER TUNING\n",
    "You are provided with a csv file (magic_gamma_telescope04.csv) dataset which contains telescopic experiment data. Using the features given in it, you need to classify the outcome \"class\". \n",
    "\n",
    "• Prepare a model which can classify it with f1 score = 70% and accuracy = 75%.\n",
    "\n",
    "• Use neural networks combined with any HP parameter tuning.\n",
    "\n",
    "• You can make use of any preprocessing activities if needed.\n",
    "\n",
    "• No external data shall be added for increasing evaluation metric values."
   ]
  },
  {
   "cell_type": "code",
   "execution_count": 1,
   "id": "2ad3bea3",
   "metadata": {},
   "outputs": [],
   "source": [
    "import pandas as pd\n",
    "import matplotlib.pyplot as plt\n",
    "\n"
   ]
  },
  {
   "cell_type": "code",
   "execution_count": 2,
   "id": "4d89fa9a",
   "metadata": {},
   "outputs": [
    {
     "name": "stdout",
     "output_type": "stream",
     "text": [
      "Requirement already satisfied: scikeras in c:\\users\\indup\\anaconda3\\envs\\tf\\lib\\site-packages (0.9.0)\n",
      "Requirement already satisfied: importlib-metadata>=3 in c:\\users\\indup\\anaconda3\\envs\\tf\\lib\\site-packages (from scikeras) (4.11.3)\n",
      "Requirement already satisfied: scikit-learn>=1.0.0 in c:\\users\\indup\\anaconda3\\envs\\tf\\lib\\site-packages (from scikeras) (1.0.2)\n",
      "Requirement already satisfied: packaging>=0.21 in c:\\users\\indup\\anaconda3\\envs\\tf\\lib\\site-packages (from scikeras) (21.3)\n",
      "Requirement already satisfied: zipp>=0.5 in c:\\users\\indup\\anaconda3\\envs\\tf\\lib\\site-packages (from importlib-metadata>=3->scikeras) (3.8.0)\n",
      "Requirement already satisfied: typing-extensions>=3.6.4 in c:\\users\\indup\\anaconda3\\envs\\tf\\lib\\site-packages (from importlib-metadata>=3->scikeras) (4.3.0)\n",
      "Requirement already satisfied: pyparsing!=3.0.5,>=2.0.2 in c:\\users\\indup\\anaconda3\\envs\\tf\\lib\\site-packages (from packaging>=0.21->scikeras) (3.0.9)\n",
      "Requirement already satisfied: threadpoolctl>=2.0.0 in c:\\users\\indup\\anaconda3\\envs\\tf\\lib\\site-packages (from scikit-learn>=1.0.0->scikeras) (3.1.0)\n",
      "Requirement already satisfied: numpy>=1.14.6 in c:\\users\\indup\\anaconda3\\envs\\tf\\lib\\site-packages (from scikit-learn>=1.0.0->scikeras) (1.21.5)\n",
      "Requirement already satisfied: joblib>=0.11 in c:\\users\\indup\\anaconda3\\envs\\tf\\lib\\site-packages (from scikit-learn>=1.0.0->scikeras) (1.2.0)\n",
      "Requirement already satisfied: scipy>=1.1.0 in c:\\users\\indup\\anaconda3\\envs\\tf\\lib\\site-packages (from scikit-learn>=1.0.0->scikeras) (1.7.3)\n",
      "Note: you may need to restart the kernel to use updated packages.\n"
     ]
    }
   ],
   "source": [
    "pip install scikeras"
   ]
  },
  {
   "cell_type": "code",
   "execution_count": 3,
   "id": "d19dfc0a",
   "metadata": {},
   "outputs": [],
   "source": [
    "import warnings\n",
    "warnings.filterwarnings('ignore')"
   ]
  },
  {
   "cell_type": "code",
   "execution_count": 4,
   "id": "0189390c",
   "metadata": {},
   "outputs": [
    {
     "data": {
      "text/html": [
       "<div>\n",
       "<style scoped>\n",
       "    .dataframe tbody tr th:only-of-type {\n",
       "        vertical-align: middle;\n",
       "    }\n",
       "\n",
       "    .dataframe tbody tr th {\n",
       "        vertical-align: top;\n",
       "    }\n",
       "\n",
       "    .dataframe thead th {\n",
       "        text-align: right;\n",
       "    }\n",
       "</style>\n",
       "<table border=\"1\" class=\"dataframe\">\n",
       "  <thead>\n",
       "    <tr style=\"text-align: right;\">\n",
       "      <th></th>\n",
       "      <th>flength</th>\n",
       "      <th>fwidth</th>\n",
       "      <th>fsize</th>\n",
       "      <th>fconc</th>\n",
       "      <th>fconc1</th>\n",
       "      <th>fsym</th>\n",
       "      <th>fm3long</th>\n",
       "      <th>fm3trans</th>\n",
       "      <th>falpha</th>\n",
       "      <th>dist</th>\n",
       "      <th>class</th>\n",
       "    </tr>\n",
       "  </thead>\n",
       "  <tbody>\n",
       "    <tr>\n",
       "      <th>0</th>\n",
       "      <td>28.7967</td>\n",
       "      <td>16.0021</td>\n",
       "      <td>2.6449</td>\n",
       "      <td>0.3918</td>\n",
       "      <td>0.1982</td>\n",
       "      <td>27.7004</td>\n",
       "      <td>22.0110</td>\n",
       "      <td>-8.2027</td>\n",
       "      <td>40.0920</td>\n",
       "      <td>81.8828</td>\n",
       "      <td>g</td>\n",
       "    </tr>\n",
       "    <tr>\n",
       "      <th>1</th>\n",
       "      <td>31.6036</td>\n",
       "      <td>11.7235</td>\n",
       "      <td>2.5185</td>\n",
       "      <td>0.5303</td>\n",
       "      <td>0.3773</td>\n",
       "      <td>26.2722</td>\n",
       "      <td>23.8238</td>\n",
       "      <td>-9.9574</td>\n",
       "      <td>6.3609</td>\n",
       "      <td>205.2610</td>\n",
       "      <td>g</td>\n",
       "    </tr>\n",
       "    <tr>\n",
       "      <th>2</th>\n",
       "      <td>162.0520</td>\n",
       "      <td>136.0310</td>\n",
       "      <td>4.0612</td>\n",
       "      <td>0.0374</td>\n",
       "      <td>0.0187</td>\n",
       "      <td>116.7410</td>\n",
       "      <td>-64.8580</td>\n",
       "      <td>-45.2160</td>\n",
       "      <td>76.9600</td>\n",
       "      <td>256.7880</td>\n",
       "      <td>g</td>\n",
       "    </tr>\n",
       "    <tr>\n",
       "      <th>3</th>\n",
       "      <td>23.8172</td>\n",
       "      <td>9.5728</td>\n",
       "      <td>2.3385</td>\n",
       "      <td>0.6147</td>\n",
       "      <td>0.3922</td>\n",
       "      <td>27.2107</td>\n",
       "      <td>-6.4633</td>\n",
       "      <td>-7.1513</td>\n",
       "      <td>10.4490</td>\n",
       "      <td>116.7370</td>\n",
       "      <td>g</td>\n",
       "    </tr>\n",
       "    <tr>\n",
       "      <th>4</th>\n",
       "      <td>75.1362</td>\n",
       "      <td>30.9205</td>\n",
       "      <td>3.1611</td>\n",
       "      <td>0.3168</td>\n",
       "      <td>0.1832</td>\n",
       "      <td>-5.5277</td>\n",
       "      <td>28.5525</td>\n",
       "      <td>21.8393</td>\n",
       "      <td>4.6480</td>\n",
       "      <td>356.4620</td>\n",
       "      <td>g</td>\n",
       "    </tr>\n",
       "  </tbody>\n",
       "</table>\n",
       "</div>"
      ],
      "text/plain": [
       "    flength    fwidth   fsize   fconc  fconc1      fsym  fm3long  fm3trans  \\\n",
       "0   28.7967   16.0021  2.6449  0.3918  0.1982   27.7004  22.0110   -8.2027   \n",
       "1   31.6036   11.7235  2.5185  0.5303  0.3773   26.2722  23.8238   -9.9574   \n",
       "2  162.0520  136.0310  4.0612  0.0374  0.0187  116.7410 -64.8580  -45.2160   \n",
       "3   23.8172    9.5728  2.3385  0.6147  0.3922   27.2107  -6.4633   -7.1513   \n",
       "4   75.1362   30.9205  3.1611  0.3168  0.1832   -5.5277  28.5525   21.8393   \n",
       "\n",
       "    falpha      dist class  \n",
       "0  40.0920   81.8828     g  \n",
       "1   6.3609  205.2610     g  \n",
       "2  76.9600  256.7880     g  \n",
       "3  10.4490  116.7370     g  \n",
       "4   4.6480  356.4620     g  "
      ]
     },
     "execution_count": 4,
     "metadata": {},
     "output_type": "execute_result"
    }
   ],
   "source": [
    "# Reading the data\n",
    "df = pd.read_csv('magic_gamma_telescope04_.csv')\n",
    "df.head()"
   ]
  },
  {
   "cell_type": "code",
   "execution_count": 5,
   "id": "1573902e",
   "metadata": {},
   "outputs": [
    {
     "data": {
      "text/plain": [
       "(19020, 11)"
      ]
     },
     "execution_count": 5,
     "metadata": {},
     "output_type": "execute_result"
    }
   ],
   "source": [
    "df.shape"
   ]
  },
  {
   "cell_type": "code",
   "execution_count": 6,
   "id": "8902ee32",
   "metadata": {},
   "outputs": [
    {
     "name": "stdout",
     "output_type": "stream",
     "text": [
      "<class 'pandas.core.frame.DataFrame'>\n",
      "RangeIndex: 19020 entries, 0 to 19019\n",
      "Data columns (total 11 columns):\n",
      " #   Column    Non-Null Count  Dtype  \n",
      "---  ------    --------------  -----  \n",
      " 0   flength   19020 non-null  float64\n",
      " 1   fwidth    19020 non-null  float64\n",
      " 2   fsize     19020 non-null  float64\n",
      " 3   fconc     19020 non-null  float64\n",
      " 4   fconc1    19020 non-null  float64\n",
      " 5   fsym      19020 non-null  float64\n",
      " 6   fm3long   19020 non-null  float64\n",
      " 7   fm3trans  19020 non-null  float64\n",
      " 8   falpha    19020 non-null  float64\n",
      " 9   dist      19020 non-null  float64\n",
      " 10  class     19020 non-null  object \n",
      "dtypes: float64(10), object(1)\n",
      "memory usage: 1.6+ MB\n"
     ]
    }
   ],
   "source": [
    "df.info()"
   ]
  },
  {
   "cell_type": "code",
   "execution_count": 7,
   "id": "42d45d49",
   "metadata": {},
   "outputs": [
    {
     "data": {
      "text/html": [
       "<div>\n",
       "<style scoped>\n",
       "    .dataframe tbody tr th:only-of-type {\n",
       "        vertical-align: middle;\n",
       "    }\n",
       "\n",
       "    .dataframe tbody tr th {\n",
       "        vertical-align: top;\n",
       "    }\n",
       "\n",
       "    .dataframe thead th {\n",
       "        text-align: right;\n",
       "    }\n",
       "</style>\n",
       "<table border=\"1\" class=\"dataframe\">\n",
       "  <thead>\n",
       "    <tr style=\"text-align: right;\">\n",
       "      <th></th>\n",
       "      <th>flength</th>\n",
       "      <th>fwidth</th>\n",
       "      <th>fsize</th>\n",
       "      <th>fconc</th>\n",
       "      <th>fconc1</th>\n",
       "      <th>fsym</th>\n",
       "      <th>fm3long</th>\n",
       "      <th>fm3trans</th>\n",
       "      <th>falpha</th>\n",
       "      <th>dist</th>\n",
       "    </tr>\n",
       "  </thead>\n",
       "  <tbody>\n",
       "    <tr>\n",
       "      <th>count</th>\n",
       "      <td>19020.000000</td>\n",
       "      <td>19020.000000</td>\n",
       "      <td>19020.000000</td>\n",
       "      <td>19020.000000</td>\n",
       "      <td>19020.000000</td>\n",
       "      <td>19020.000000</td>\n",
       "      <td>19020.000000</td>\n",
       "      <td>19020.000000</td>\n",
       "      <td>19020.000000</td>\n",
       "      <td>19020.000000</td>\n",
       "    </tr>\n",
       "    <tr>\n",
       "      <th>mean</th>\n",
       "      <td>53.250154</td>\n",
       "      <td>22.180966</td>\n",
       "      <td>2.825017</td>\n",
       "      <td>0.380327</td>\n",
       "      <td>0.214657</td>\n",
       "      <td>-4.331745</td>\n",
       "      <td>10.545545</td>\n",
       "      <td>0.249726</td>\n",
       "      <td>27.645707</td>\n",
       "      <td>193.818026</td>\n",
       "    </tr>\n",
       "    <tr>\n",
       "      <th>std</th>\n",
       "      <td>42.364855</td>\n",
       "      <td>18.346056</td>\n",
       "      <td>0.472599</td>\n",
       "      <td>0.182813</td>\n",
       "      <td>0.110511</td>\n",
       "      <td>59.206062</td>\n",
       "      <td>51.000118</td>\n",
       "      <td>20.827439</td>\n",
       "      <td>26.103621</td>\n",
       "      <td>74.731787</td>\n",
       "    </tr>\n",
       "    <tr>\n",
       "      <th>min</th>\n",
       "      <td>4.283500</td>\n",
       "      <td>0.000000</td>\n",
       "      <td>1.941300</td>\n",
       "      <td>0.013100</td>\n",
       "      <td>0.000300</td>\n",
       "      <td>-457.916100</td>\n",
       "      <td>-331.780000</td>\n",
       "      <td>-205.894700</td>\n",
       "      <td>0.000000</td>\n",
       "      <td>1.282600</td>\n",
       "    </tr>\n",
       "    <tr>\n",
       "      <th>25%</th>\n",
       "      <td>24.336000</td>\n",
       "      <td>11.863800</td>\n",
       "      <td>2.477100</td>\n",
       "      <td>0.235800</td>\n",
       "      <td>0.128475</td>\n",
       "      <td>-20.586550</td>\n",
       "      <td>-12.842775</td>\n",
       "      <td>-10.849375</td>\n",
       "      <td>5.547925</td>\n",
       "      <td>142.492250</td>\n",
       "    </tr>\n",
       "    <tr>\n",
       "      <th>50%</th>\n",
       "      <td>37.147700</td>\n",
       "      <td>17.139900</td>\n",
       "      <td>2.739600</td>\n",
       "      <td>0.354150</td>\n",
       "      <td>0.196500</td>\n",
       "      <td>4.013050</td>\n",
       "      <td>15.314100</td>\n",
       "      <td>0.666200</td>\n",
       "      <td>17.679500</td>\n",
       "      <td>191.851450</td>\n",
       "    </tr>\n",
       "    <tr>\n",
       "      <th>75%</th>\n",
       "      <td>70.122175</td>\n",
       "      <td>24.739475</td>\n",
       "      <td>3.101600</td>\n",
       "      <td>0.503700</td>\n",
       "      <td>0.285225</td>\n",
       "      <td>24.063700</td>\n",
       "      <td>35.837800</td>\n",
       "      <td>10.946425</td>\n",
       "      <td>45.883550</td>\n",
       "      <td>240.563825</td>\n",
       "    </tr>\n",
       "    <tr>\n",
       "      <th>max</th>\n",
       "      <td>334.177000</td>\n",
       "      <td>256.382000</td>\n",
       "      <td>5.323300</td>\n",
       "      <td>0.893000</td>\n",
       "      <td>0.675200</td>\n",
       "      <td>575.240700</td>\n",
       "      <td>238.321000</td>\n",
       "      <td>179.851000</td>\n",
       "      <td>90.000000</td>\n",
       "      <td>495.561000</td>\n",
       "    </tr>\n",
       "  </tbody>\n",
       "</table>\n",
       "</div>"
      ],
      "text/plain": [
       "            flength        fwidth         fsize         fconc        fconc1  \\\n",
       "count  19020.000000  19020.000000  19020.000000  19020.000000  19020.000000   \n",
       "mean      53.250154     22.180966      2.825017      0.380327      0.214657   \n",
       "std       42.364855     18.346056      0.472599      0.182813      0.110511   \n",
       "min        4.283500      0.000000      1.941300      0.013100      0.000300   \n",
       "25%       24.336000     11.863800      2.477100      0.235800      0.128475   \n",
       "50%       37.147700     17.139900      2.739600      0.354150      0.196500   \n",
       "75%       70.122175     24.739475      3.101600      0.503700      0.285225   \n",
       "max      334.177000    256.382000      5.323300      0.893000      0.675200   \n",
       "\n",
       "               fsym       fm3long      fm3trans        falpha          dist  \n",
       "count  19020.000000  19020.000000  19020.000000  19020.000000  19020.000000  \n",
       "mean      -4.331745     10.545545      0.249726     27.645707    193.818026  \n",
       "std       59.206062     51.000118     20.827439     26.103621     74.731787  \n",
       "min     -457.916100   -331.780000   -205.894700      0.000000      1.282600  \n",
       "25%      -20.586550    -12.842775    -10.849375      5.547925    142.492250  \n",
       "50%        4.013050     15.314100      0.666200     17.679500    191.851450  \n",
       "75%       24.063700     35.837800     10.946425     45.883550    240.563825  \n",
       "max      575.240700    238.321000    179.851000     90.000000    495.561000  "
      ]
     },
     "execution_count": 7,
     "metadata": {},
     "output_type": "execute_result"
    }
   ],
   "source": [
    "df.describe()"
   ]
  },
  {
   "cell_type": "code",
   "execution_count": 8,
   "id": "459b0df2",
   "metadata": {},
   "outputs": [
    {
     "data": {
      "text/plain": [
       "flength     0\n",
       "fwidth      0\n",
       "fsize       0\n",
       "fconc       0\n",
       "fconc1      0\n",
       "fsym        0\n",
       "fm3long     0\n",
       "fm3trans    0\n",
       "falpha      0\n",
       "dist        0\n",
       "class       0\n",
       "dtype: int64"
      ]
     },
     "execution_count": 8,
     "metadata": {},
     "output_type": "execute_result"
    }
   ],
   "source": [
    "df.isna().sum()"
   ]
  },
  {
   "cell_type": "markdown",
   "id": "9f1bf19c",
   "metadata": {},
   "source": [
    "Insights-There are no missing values"
   ]
  },
  {
   "cell_type": "code",
   "execution_count": 9,
   "id": "69e73b12",
   "metadata": {},
   "outputs": [
    {
     "data": {
      "image/png": "[encoded data removed]",
      "text/plain": [
       "<Figure size 1500x1500 with 20 Axes>"
      ]
     },
     "metadata": {},
     "output_type": "display_data"
    }
   ],
   "source": [
    "# plotting boxplots\n",
    "df.plot(kind='box',subplots=True,layout=(4,5),figsize=(15,15),title='Outlier Visualization')\n",
    "plt.show()"
   ]
  },
  {
   "cell_type": "code",
   "execution_count": 10,
   "id": "141e1e3d",
   "metadata": {},
   "outputs": [],
   "source": [
    "# Splitting dataset into X and y\n",
    "y = df['class']\n",
    "X = df.drop('class', axis = 1)"
   ]
  },
  {
   "cell_type": "code",
   "execution_count": 11,
   "id": "4a5d425a",
   "metadata": {},
   "outputs": [],
   "source": [
    "#scaling\n",
    "from sklearn.preprocessing import MinMaxScaler"
   ]
  },
  {
   "cell_type": "code",
   "execution_count": 12,
   "id": "ee6be96e",
   "metadata": {},
   "outputs": [],
   "source": [
    "minMaxScaler = MinMaxScaler()\n",
    "X = minMaxScaler.fit_transform(X)"
   ]
  },
  {
   "cell_type": "code",
   "execution_count": 13,
   "id": "573a657b",
   "metadata": {},
   "outputs": [],
   "source": [
    "from sklearn.model_selection import train_test_split"
   ]
  },
  {
   "cell_type": "code",
   "execution_count": 14,
   "id": "099a470a",
   "metadata": {},
   "outputs": [],
   "source": [
    "X_train, X_test, y_train, y_test = train_test_split(X, y, test_size=0.2, random_state=42)"
   ]
  },
  {
   "cell_type": "code",
   "execution_count": 15,
   "id": "e3f196f0",
   "metadata": {},
   "outputs": [],
   "source": [
    "#Encoding\n",
    "from sklearn.preprocessing import LabelEncoder\n",
    "le=LabelEncoder()"
   ]
  },
  {
   "cell_type": "code",
   "execution_count": 16,
   "id": "ef95b403",
   "metadata": {},
   "outputs": [],
   "source": [
    "le = LabelEncoder()\n",
    "y_en = le.fit_transform(y)\n",
    "y_train_en = le.fit_transform(y_train)\n",
    "y_test_en = le.fit_transform(y_test)"
   ]
  },
  {
   "cell_type": "code",
   "execution_count": 17,
   "id": "9982c2e4",
   "metadata": {},
   "outputs": [],
   "source": [
    "from tensorflow.keras.models import Sequential\n",
    "from tensorflow.keras.layers import Dense, Dropout\n",
    "from tensorflow.keras.callbacks import EarlyStopping\n",
    "from tensorflow.keras.optimizers import Adam\n",
    "from scikeras.wrappers import KerasClassifier"
   ]
  },
  {
   "cell_type": "code",
   "execution_count": 18,
   "id": "b5716324",
   "metadata": {},
   "outputs": [],
   "source": [
    "#Modelling\n",
    "from keras.models import Sequential\n",
    "model = Sequential()\n",
    "\n",
    "model.add(Dense(16, input_shape=(10,), activation='relu'))\n",
    "model.add(Dense(16, activation='relu'))\n",
    "\n",
    "model.add(Dense(1, activation='sigmoid'))\n",
    "\n",
    "model.compile(loss='binary_crossentropy', optimizer='adam', metrics=['accuracy'])"
   ]
  },
  {
   "cell_type": "code",
   "execution_count": 19,
   "id": "0a90c638",
   "metadata": {},
   "outputs": [],
   "source": [
    "early_stop = EarlyStopping(monitor='val_loss', mode='min', patience=5)"
   ]
  },
  {
   "cell_type": "code",
   "execution_count": 20,
   "id": "a282a27b",
   "metadata": {},
   "outputs": [
    {
     "name": "stdout",
     "output_type": "stream",
     "text": [
      "Epoch 1/100\n",
      "1268/1268 [==============================] - 3s 2ms/step - loss: 0.5068 - accuracy: 0.7593 - val_loss: 0.4274 - val_accuracy: 0.8081\n",
      "Epoch 2/100\n",
      "1268/1268 [==============================] - 2s 2ms/step - loss: 0.4168 - accuracy: 0.8145 - val_loss: 0.4026 - val_accuracy: 0.8197\n",
      "Epoch 3/100\n",
      "1268/1268 [==============================] - 2s 2ms/step - loss: 0.4003 - accuracy: 0.8239 - val_loss: 0.3933 - val_accuracy: 0.8310\n",
      "Epoch 4/100\n",
      "1268/1268 [==============================] - 2s 2ms/step - loss: 0.3924 - accuracy: 0.8303 - val_loss: 0.3870 - val_accuracy: 0.8349\n",
      "Epoch 5/100\n",
      "1268/1268 [==============================] - 2s 2ms/step - loss: 0.3866 - accuracy: 0.8335 - val_loss: 0.3839 - val_accuracy: 0.8346\n",
      "Epoch 6/100\n",
      "1268/1268 [==============================] - 2s 2ms/step - loss: 0.3835 - accuracy: 0.8369 - val_loss: 0.3961 - val_accuracy: 0.8297\n",
      "Epoch 7/100\n",
      "1268/1268 [==============================] - 2s 2ms/step - loss: 0.3797 - accuracy: 0.8366 - val_loss: 0.3818 - val_accuracy: 0.8404\n",
      "Epoch 8/100\n",
      "1268/1268 [==============================] - 2s 2ms/step - loss: 0.3780 - accuracy: 0.8389 - val_loss: 0.3786 - val_accuracy: 0.8402\n",
      "Epoch 9/100\n",
      "1268/1268 [==============================] - 2s 2ms/step - loss: 0.3753 - accuracy: 0.8408 - val_loss: 0.3764 - val_accuracy: 0.8420\n",
      "Epoch 10/100\n",
      "1268/1268 [==============================] - 2s 2ms/step - loss: 0.3738 - accuracy: 0.8429 - val_loss: 0.3706 - val_accuracy: 0.8431\n",
      "Epoch 11/100\n",
      "1268/1268 [==============================] - 2s 2ms/step - loss: 0.3735 - accuracy: 0.8406 - val_loss: 0.3716 - val_accuracy: 0.8457\n",
      "Epoch 12/100\n",
      "1268/1268 [==============================] - 2s 2ms/step - loss: 0.3714 - accuracy: 0.8408 - val_loss: 0.3739 - val_accuracy: 0.8415\n",
      "Epoch 13/100\n",
      "1268/1268 [==============================] - 3s 2ms/step - loss: 0.3692 - accuracy: 0.8451 - val_loss: 0.3696 - val_accuracy: 0.8436\n",
      "Epoch 14/100\n",
      "1268/1268 [==============================] - 2s 2ms/step - loss: 0.3685 - accuracy: 0.8431 - val_loss: 0.3680 - val_accuracy: 0.8423\n",
      "Epoch 15/100\n",
      "1268/1268 [==============================] - 2s 2ms/step - loss: 0.3668 - accuracy: 0.8444 - val_loss: 0.3648 - val_accuracy: 0.8457\n",
      "Epoch 16/100\n",
      "1268/1268 [==============================] - 2s 2ms/step - loss: 0.3662 - accuracy: 0.8463 - val_loss: 0.3614 - val_accuracy: 0.8475\n",
      "Epoch 17/100\n",
      "1268/1268 [==============================] - 2s 2ms/step - loss: 0.3639 - accuracy: 0.8456 - val_loss: 0.3713 - val_accuracy: 0.8410\n",
      "Epoch 18/100\n",
      "1268/1268 [==============================] - 2s 2ms/step - loss: 0.3616 - accuracy: 0.8496 - val_loss: 0.3595 - val_accuracy: 0.8528\n",
      "Epoch 19/100\n",
      "1268/1268 [==============================] - 2s 2ms/step - loss: 0.3601 - accuracy: 0.8498 - val_loss: 0.3639 - val_accuracy: 0.8478\n",
      "Epoch 20/100\n",
      "1268/1268 [==============================] - 3s 2ms/step - loss: 0.3568 - accuracy: 0.8503 - val_loss: 0.3516 - val_accuracy: 0.8544\n",
      "Epoch 21/100\n",
      "1268/1268 [==============================] - 2s 2ms/step - loss: 0.3546 - accuracy: 0.8516 - val_loss: 0.3517 - val_accuracy: 0.8520\n",
      "Epoch 22/100\n",
      "1268/1268 [==============================] - 2s 2ms/step - loss: 0.3531 - accuracy: 0.8530 - val_loss: 0.3540 - val_accuracy: 0.8478\n",
      "Epoch 23/100\n",
      "1268/1268 [==============================] - 3s 2ms/step - loss: 0.3518 - accuracy: 0.8522 - val_loss: 0.3583 - val_accuracy: 0.8491\n",
      "Epoch 24/100\n",
      "1268/1268 [==============================] - 2s 2ms/step - loss: 0.3499 - accuracy: 0.8517 - val_loss: 0.3557 - val_accuracy: 0.8507\n",
      "Epoch 25/100\n",
      "1268/1268 [==============================] - 2s 2ms/step - loss: 0.3467 - accuracy: 0.8543 - val_loss: 0.3442 - val_accuracy: 0.8565\n",
      "Epoch 26/100\n",
      "1268/1268 [==============================] - 2s 2ms/step - loss: 0.3470 - accuracy: 0.8548 - val_loss: 0.3442 - val_accuracy: 0.8549\n",
      "Epoch 27/100\n",
      "1268/1268 [==============================] - 3s 2ms/step - loss: 0.3443 - accuracy: 0.8550 - val_loss: 0.3420 - val_accuracy: 0.8565\n",
      "Epoch 28/100\n",
      "1268/1268 [==============================] - 2s 2ms/step - loss: 0.3435 - accuracy: 0.8573 - val_loss: 0.3412 - val_accuracy: 0.8562\n",
      "Epoch 29/100\n",
      "1268/1268 [==============================] - 2s 2ms/step - loss: 0.3424 - accuracy: 0.8569 - val_loss: 0.3380 - val_accuracy: 0.8583\n",
      "Epoch 30/100\n",
      "1268/1268 [==============================] - 2s 2ms/step - loss: 0.3410 - accuracy: 0.8567 - val_loss: 0.3392 - val_accuracy: 0.8586\n",
      "Epoch 31/100\n",
      "1268/1268 [==============================] - 2s 2ms/step - loss: 0.3400 - accuracy: 0.8587 - val_loss: 0.3397 - val_accuracy: 0.8580\n",
      "Epoch 32/100\n",
      "1268/1268 [==============================] - 2s 2ms/step - loss: 0.3380 - accuracy: 0.8593 - val_loss: 0.3371 - val_accuracy: 0.8567\n",
      "Epoch 33/100\n",
      "1268/1268 [==============================] - 2s 2ms/step - loss: 0.3369 - accuracy: 0.8603 - val_loss: 0.3335 - val_accuracy: 0.8623\n",
      "Epoch 34/100\n",
      "1268/1268 [==============================] - 3s 2ms/step - loss: 0.3357 - accuracy: 0.8583 - val_loss: 0.3463 - val_accuracy: 0.8559\n",
      "Epoch 35/100\n",
      "1268/1268 [==============================] - 2s 2ms/step - loss: 0.3352 - accuracy: 0.8601 - val_loss: 0.3385 - val_accuracy: 0.8557\n",
      "Epoch 36/100\n",
      "1268/1268 [==============================] - 2s 2ms/step - loss: 0.3341 - accuracy: 0.8600 - val_loss: 0.3317 - val_accuracy: 0.8630\n",
      "Epoch 37/100\n",
      "1268/1268 [==============================] - 2s 2ms/step - loss: 0.3321 - accuracy: 0.8597 - val_loss: 0.3396 - val_accuracy: 0.8599\n",
      "Epoch 38/100\n",
      "1268/1268 [==============================] - 2s 2ms/step - loss: 0.3313 - accuracy: 0.8636 - val_loss: 0.3320 - val_accuracy: 0.8604\n",
      "Epoch 39/100\n",
      "1268/1268 [==============================] - 2s 2ms/step - loss: 0.3320 - accuracy: 0.8600 - val_loss: 0.3356 - val_accuracy: 0.8654\n",
      "Epoch 40/100\n",
      "1268/1268 [==============================] - 2s 2ms/step - loss: 0.3311 - accuracy: 0.8603 - val_loss: 0.3340 - val_accuracy: 0.8644\n",
      "Epoch 41/100\n",
      "1268/1268 [==============================] - 2s 2ms/step - loss: 0.3296 - accuracy: 0.8624 - val_loss: 0.3335 - val_accuracy: 0.8649\n"
     ]
    },
    {
     "data": {
      "text/plain": [
       "<keras.callbacks.History at 0x29e05930e48>"
      ]
     },
     "execution_count": 20,
     "metadata": {},
     "output_type": "execute_result"
    }
   ],
   "source": [
    "model.fit(X_train, y_train_en, batch_size=12, epochs=100, \n",
    "          validation_data=(X_test, y_test_en), callbacks=[early_stop])"
   ]
  },
  {
   "cell_type": "code",
   "execution_count": 21,
   "id": "c2857377",
   "metadata": {},
   "outputs": [
    {
     "data": {
      "text/html": [
       "<div>\n",
       "<style scoped>\n",
       "    .dataframe tbody tr th:only-of-type {\n",
       "        vertical-align: middle;\n",
       "    }\n",
       "\n",
       "    .dataframe tbody tr th {\n",
       "        vertical-align: top;\n",
       "    }\n",
       "\n",
       "    .dataframe thead th {\n",
       "        text-align: right;\n",
       "    }\n",
       "</style>\n",
       "<table border=\"1\" class=\"dataframe\">\n",
       "  <thead>\n",
       "    <tr style=\"text-align: right;\">\n",
       "      <th></th>\n",
       "      <th>loss</th>\n",
       "      <th>accuracy</th>\n",
       "      <th>val_loss</th>\n",
       "      <th>val_accuracy</th>\n",
       "    </tr>\n",
       "  </thead>\n",
       "  <tbody>\n",
       "    <tr>\n",
       "      <th>0</th>\n",
       "      <td>0.506833</td>\n",
       "      <td>0.759267</td>\n",
       "      <td>0.427385</td>\n",
       "      <td>0.808097</td>\n",
       "    </tr>\n",
       "    <tr>\n",
       "      <th>1</th>\n",
       "      <td>0.416777</td>\n",
       "      <td>0.814472</td>\n",
       "      <td>0.402632</td>\n",
       "      <td>0.819664</td>\n",
       "    </tr>\n",
       "    <tr>\n",
       "      <th>2</th>\n",
       "      <td>0.400349</td>\n",
       "      <td>0.823870</td>\n",
       "      <td>0.393251</td>\n",
       "      <td>0.830967</td>\n",
       "    </tr>\n",
       "    <tr>\n",
       "      <th>3</th>\n",
       "      <td>0.392367</td>\n",
       "      <td>0.830310</td>\n",
       "      <td>0.386980</td>\n",
       "      <td>0.834911</td>\n",
       "    </tr>\n",
       "    <tr>\n",
       "      <th>4</th>\n",
       "      <td>0.386633</td>\n",
       "      <td>0.833465</td>\n",
       "      <td>0.383921</td>\n",
       "      <td>0.834648</td>\n",
       "    </tr>\n",
       "    <tr>\n",
       "      <th>5</th>\n",
       "      <td>0.383487</td>\n",
       "      <td>0.836948</td>\n",
       "      <td>0.396132</td>\n",
       "      <td>0.829653</td>\n",
       "    </tr>\n",
       "    <tr>\n",
       "      <th>6</th>\n",
       "      <td>0.379720</td>\n",
       "      <td>0.836619</td>\n",
       "      <td>0.381767</td>\n",
       "      <td>0.840431</td>\n",
       "    </tr>\n",
       "    <tr>\n",
       "      <th>7</th>\n",
       "      <td>0.377955</td>\n",
       "      <td>0.838920</td>\n",
       "      <td>0.378642</td>\n",
       "      <td>0.840168</td>\n",
       "    </tr>\n",
       "    <tr>\n",
       "      <th>8</th>\n",
       "      <td>0.375269</td>\n",
       "      <td>0.840760</td>\n",
       "      <td>0.376365</td>\n",
       "      <td>0.842008</td>\n",
       "    </tr>\n",
       "    <tr>\n",
       "      <th>9</th>\n",
       "      <td>0.373765</td>\n",
       "      <td>0.842928</td>\n",
       "      <td>0.370606</td>\n",
       "      <td>0.843060</td>\n",
       "    </tr>\n",
       "    <tr>\n",
       "      <th>10</th>\n",
       "      <td>0.373463</td>\n",
       "      <td>0.840628</td>\n",
       "      <td>0.371572</td>\n",
       "      <td>0.845689</td>\n",
       "    </tr>\n",
       "    <tr>\n",
       "      <th>11</th>\n",
       "      <td>0.371449</td>\n",
       "      <td>0.840760</td>\n",
       "      <td>0.373898</td>\n",
       "      <td>0.841483</td>\n",
       "    </tr>\n",
       "    <tr>\n",
       "      <th>12</th>\n",
       "      <td>0.369160</td>\n",
       "      <td>0.845097</td>\n",
       "      <td>0.369552</td>\n",
       "      <td>0.843586</td>\n",
       "    </tr>\n",
       "    <tr>\n",
       "      <th>13</th>\n",
       "      <td>0.368485</td>\n",
       "      <td>0.843060</td>\n",
       "      <td>0.368043</td>\n",
       "      <td>0.842271</td>\n",
       "    </tr>\n",
       "    <tr>\n",
       "      <th>14</th>\n",
       "      <td>0.366817</td>\n",
       "      <td>0.844440</td>\n",
       "      <td>0.364794</td>\n",
       "      <td>0.845689</td>\n",
       "    </tr>\n",
       "    <tr>\n",
       "      <th>15</th>\n",
       "      <td>0.366246</td>\n",
       "      <td>0.846280</td>\n",
       "      <td>0.361351</td>\n",
       "      <td>0.847529</td>\n",
       "    </tr>\n",
       "    <tr>\n",
       "      <th>16</th>\n",
       "      <td>0.363906</td>\n",
       "      <td>0.845623</td>\n",
       "      <td>0.371260</td>\n",
       "      <td>0.840957</td>\n",
       "    </tr>\n",
       "    <tr>\n",
       "      <th>17</th>\n",
       "      <td>0.361636</td>\n",
       "      <td>0.849566</td>\n",
       "      <td>0.359517</td>\n",
       "      <td>0.852787</td>\n",
       "    </tr>\n",
       "    <tr>\n",
       "      <th>18</th>\n",
       "      <td>0.360130</td>\n",
       "      <td>0.849763</td>\n",
       "      <td>0.363859</td>\n",
       "      <td>0.847792</td>\n",
       "    </tr>\n",
       "    <tr>\n",
       "      <th>19</th>\n",
       "      <td>0.356839</td>\n",
       "      <td>0.850289</td>\n",
       "      <td>0.351641</td>\n",
       "      <td>0.854364</td>\n",
       "    </tr>\n",
       "    <tr>\n",
       "      <th>20</th>\n",
       "      <td>0.354588</td>\n",
       "      <td>0.851604</td>\n",
       "      <td>0.351735</td>\n",
       "      <td>0.851998</td>\n",
       "    </tr>\n",
       "    <tr>\n",
       "      <th>21</th>\n",
       "      <td>0.353077</td>\n",
       "      <td>0.853049</td>\n",
       "      <td>0.354015</td>\n",
       "      <td>0.847792</td>\n",
       "    </tr>\n",
       "    <tr>\n",
       "      <th>22</th>\n",
       "      <td>0.351805</td>\n",
       "      <td>0.852195</td>\n",
       "      <td>0.358317</td>\n",
       "      <td>0.849106</td>\n",
       "    </tr>\n",
       "    <tr>\n",
       "      <th>23</th>\n",
       "      <td>0.349923</td>\n",
       "      <td>0.851669</td>\n",
       "      <td>0.355702</td>\n",
       "      <td>0.850684</td>\n",
       "    </tr>\n",
       "    <tr>\n",
       "      <th>24</th>\n",
       "      <td>0.346685</td>\n",
       "      <td>0.854298</td>\n",
       "      <td>0.344164</td>\n",
       "      <td>0.856467</td>\n",
       "    </tr>\n",
       "    <tr>\n",
       "      <th>25</th>\n",
       "      <td>0.346983</td>\n",
       "      <td>0.854824</td>\n",
       "      <td>0.344163</td>\n",
       "      <td>0.854890</td>\n",
       "    </tr>\n",
       "    <tr>\n",
       "      <th>26</th>\n",
       "      <td>0.344331</td>\n",
       "      <td>0.855021</td>\n",
       "      <td>0.341965</td>\n",
       "      <td>0.856467</td>\n",
       "    </tr>\n",
       "    <tr>\n",
       "      <th>27</th>\n",
       "      <td>0.343541</td>\n",
       "      <td>0.857321</td>\n",
       "      <td>0.341226</td>\n",
       "      <td>0.856204</td>\n",
       "    </tr>\n",
       "    <tr>\n",
       "      <th>28</th>\n",
       "      <td>0.342416</td>\n",
       "      <td>0.856861</td>\n",
       "      <td>0.337960</td>\n",
       "      <td>0.858307</td>\n",
       "    </tr>\n",
       "    <tr>\n",
       "      <th>29</th>\n",
       "      <td>0.340974</td>\n",
       "      <td>0.856730</td>\n",
       "      <td>0.339204</td>\n",
       "      <td>0.858570</td>\n",
       "    </tr>\n",
       "    <tr>\n",
       "      <th>30</th>\n",
       "      <td>0.340019</td>\n",
       "      <td>0.858701</td>\n",
       "      <td>0.339693</td>\n",
       "      <td>0.858044</td>\n",
       "    </tr>\n",
       "    <tr>\n",
       "      <th>31</th>\n",
       "      <td>0.337961</td>\n",
       "      <td>0.859293</td>\n",
       "      <td>0.337082</td>\n",
       "      <td>0.856730</td>\n",
       "    </tr>\n",
       "    <tr>\n",
       "      <th>32</th>\n",
       "      <td>0.336882</td>\n",
       "      <td>0.860344</td>\n",
       "      <td>0.333484</td>\n",
       "      <td>0.862250</td>\n",
       "    </tr>\n",
       "    <tr>\n",
       "      <th>33</th>\n",
       "      <td>0.335708</td>\n",
       "      <td>0.858307</td>\n",
       "      <td>0.346260</td>\n",
       "      <td>0.855941</td>\n",
       "    </tr>\n",
       "    <tr>\n",
       "      <th>34</th>\n",
       "      <td>0.335224</td>\n",
       "      <td>0.860081</td>\n",
       "      <td>0.338470</td>\n",
       "      <td>0.855678</td>\n",
       "    </tr>\n",
       "    <tr>\n",
       "      <th>35</th>\n",
       "      <td>0.334079</td>\n",
       "      <td>0.859950</td>\n",
       "      <td>0.331687</td>\n",
       "      <td>0.863039</td>\n",
       "    </tr>\n",
       "    <tr>\n",
       "      <th>36</th>\n",
       "      <td>0.332052</td>\n",
       "      <td>0.859687</td>\n",
       "      <td>0.339619</td>\n",
       "      <td>0.859884</td>\n",
       "    </tr>\n",
       "    <tr>\n",
       "      <th>37</th>\n",
       "      <td>0.331251</td>\n",
       "      <td>0.863565</td>\n",
       "      <td>0.332042</td>\n",
       "      <td>0.860410</td>\n",
       "    </tr>\n",
       "    <tr>\n",
       "      <th>38</th>\n",
       "      <td>0.331955</td>\n",
       "      <td>0.860016</td>\n",
       "      <td>0.335618</td>\n",
       "      <td>0.865405</td>\n",
       "    </tr>\n",
       "    <tr>\n",
       "      <th>39</th>\n",
       "      <td>0.331096</td>\n",
       "      <td>0.860279</td>\n",
       "      <td>0.334045</td>\n",
       "      <td>0.864353</td>\n",
       "    </tr>\n",
       "    <tr>\n",
       "      <th>40</th>\n",
       "      <td>0.329584</td>\n",
       "      <td>0.862382</td>\n",
       "      <td>0.333539</td>\n",
       "      <td>0.864879</td>\n",
       "    </tr>\n",
       "  </tbody>\n",
       "</table>\n",
       "</div>"
      ],
      "text/plain": [
       "        loss  accuracy  val_loss  val_accuracy\n",
       "0   0.506833  0.759267  0.427385      0.808097\n",
       "1   0.416777  0.814472  0.402632      0.819664\n",
       "2   0.400349  0.823870  0.393251      0.830967\n",
       "3   0.392367  0.830310  0.386980      0.834911\n",
       "4   0.386633  0.833465  0.383921      0.834648\n",
       "5   0.383487  0.836948  0.396132      0.829653\n",
       "6   0.379720  0.836619  0.381767      0.840431\n",
       "7   0.377955  0.838920  0.378642      0.840168\n",
       "8   0.375269  0.840760  0.376365      0.842008\n",
       "9   0.373765  0.842928  0.370606      0.843060\n",
       "10  0.373463  0.840628  0.371572      0.845689\n",
       "11  0.371449  0.840760  0.373898      0.841483\n",
       "12  0.369160  0.845097  0.369552      0.843586\n",
       "13  0.368485  0.843060  0.368043      0.842271\n",
       "14  0.366817  0.844440  0.364794      0.845689\n",
       "15  0.366246  0.846280  0.361351      0.847529\n",
       "16  0.363906  0.845623  0.371260      0.840957\n",
       "17  0.361636  0.849566  0.359517      0.852787\n",
       "18  0.360130  0.849763  0.363859      0.847792\n",
       "19  0.356839  0.850289  0.351641      0.854364\n",
       "20  0.354588  0.851604  0.351735      0.851998\n",
       "21  0.353077  0.853049  0.354015      0.847792\n",
       "22  0.351805  0.852195  0.358317      0.849106\n",
       "23  0.349923  0.851669  0.355702      0.850684\n",
       "24  0.346685  0.854298  0.344164      0.856467\n",
       "25  0.346983  0.854824  0.344163      0.854890\n",
       "26  0.344331  0.855021  0.341965      0.856467\n",
       "27  0.343541  0.857321  0.341226      0.856204\n",
       "28  0.342416  0.856861  0.337960      0.858307\n",
       "29  0.340974  0.856730  0.339204      0.858570\n",
       "30  0.340019  0.858701  0.339693      0.858044\n",
       "31  0.337961  0.859293  0.337082      0.856730\n",
       "32  0.336882  0.860344  0.333484      0.862250\n",
       "33  0.335708  0.858307  0.346260      0.855941\n",
       "34  0.335224  0.860081  0.338470      0.855678\n",
       "35  0.334079  0.859950  0.331687      0.863039\n",
       "36  0.332052  0.859687  0.339619      0.859884\n",
       "37  0.331251  0.863565  0.332042      0.860410\n",
       "38  0.331955  0.860016  0.335618      0.865405\n",
       "39  0.331096  0.860279  0.334045      0.864353\n",
       "40  0.329584  0.862382  0.333539      0.864879"
      ]
     },
     "execution_count": 21,
     "metadata": {},
     "output_type": "execute_result"
    }
   ],
   "source": [
    "ann_metrics = pd.DataFrame(model.history.history)\n",
    "ann_metrics"
   ]
  },
  {
   "cell_type": "code",
   "execution_count": 22,
   "id": "d2f4ecbb",
   "metadata": {},
   "outputs": [
    {
     "data": {
      "text/plain": [
       "<AxesSubplot:>"
      ]
     },
     "execution_count": 22,
     "metadata": {},
     "output_type": "execute_result"
    },
    {
     "data": {
      "image/png": "[encoded data removed]",
      "text/plain": [
       "<Figure size 640x480 with 1 Axes>"
      ]
     },
     "metadata": {},
     "output_type": "display_data"
    }
   ],
   "source": [
    "ann_metrics[['loss', 'val_loss']].plot()"
   ]
  },
  {
   "cell_type": "code",
   "execution_count": 23,
   "id": "4a3e86b5",
   "metadata": {},
   "outputs": [
    {
     "data": {
      "text/plain": [
       "<AxesSubplot:>"
      ]
     },
     "execution_count": 23,
     "metadata": {},
     "output_type": "execute_result"
    },
    {
     "data": {
      "image/png": "[encoded data removed]",
      "text/plain": [
       "<Figure size 640x480 with 1 Axes>"
      ]
     },
     "metadata": {},
     "output_type": "display_data"
    }
   ],
   "source": [
    "ann_metrics[['accuracy', 'val_accuracy']].plot()"
   ]
  },
  {
   "cell_type": "code",
   "execution_count": 24,
   "id": "b40f8331",
   "metadata": {},
   "outputs": [
    {
     "name": "stdout",
     "output_type": "stream",
     "text": [
      "119/119 [==============================] - 0s 1ms/step\n"
     ]
    }
   ],
   "source": [
    "predictions = (model.predict(X_test) > 0.5).astype('int32')"
   ]
  },
  {
   "cell_type": "code",
   "execution_count": 25,
   "id": "cb4f6aa0",
   "metadata": {},
   "outputs": [],
   "source": [
    "from sklearn.model_selection import train_test_split, GridSearchCV\n",
    "from sklearn.metrics import confusion_matrix, classification_report, accuracy_score, f1_score"
   ]
  },
  {
   "cell_type": "code",
   "execution_count": 26,
   "id": "9e7dc381",
   "metadata": {},
   "outputs": [
    {
     "name": "stdout",
     "output_type": "stream",
     "text": [
      "              precision    recall  f1-score   support\n",
      "\n",
      "           0       0.85      0.96      0.90      2460\n",
      "           1       0.91      0.69      0.78      1344\n",
      "\n",
      "    accuracy                           0.86      3804\n",
      "   macro avg       0.88      0.82      0.84      3804\n",
      "weighted avg       0.87      0.86      0.86      3804\n",
      "\n"
     ]
    }
   ],
   "source": [
    "print(classification_report(y_test_en, predictions))"
   ]
  },
  {
   "cell_type": "code",
   "execution_count": 27,
   "id": "0432475f",
   "metadata": {},
   "outputs": [
    {
     "data": {
      "text/plain": [
       "array([[2369,   91],\n",
       "       [ 423,  921]], dtype=int64)"
      ]
     },
     "execution_count": 27,
     "metadata": {},
     "output_type": "execute_result"
    }
   ],
   "source": [
    "confusion_matrix(y_test_en, predictions)"
   ]
  },
  {
   "cell_type": "code",
   "execution_count": 28,
   "id": "bb2fce50",
   "metadata": {},
   "outputs": [
    {
     "data": {
      "text/plain": [
       "0.8648790746582544"
      ]
     },
     "execution_count": 28,
     "metadata": {},
     "output_type": "execute_result"
    }
   ],
   "source": [
    "accuracy_score(y_test_en, predictions)"
   ]
  },
  {
   "cell_type": "code",
   "execution_count": 29,
   "id": "d2650acf",
   "metadata": {},
   "outputs": [
    {
     "data": {
      "text/plain": [
       "0.7818336162988115"
      ]
     },
     "execution_count": 29,
     "metadata": {},
     "output_type": "execute_result"
    }
   ],
   "source": [
    "f1_score(y_test_en, predictions)"
   ]
  },
  {
   "cell_type": "code",
   "execution_count": 30,
   "id": "05e7557f",
   "metadata": {},
   "outputs": [],
   "source": [
    "def create_model(neurons, dropout_rate, optimizer='adam'):\n",
    "\n",
    "\tmodel = Sequential()\n",
    "\tmodel.add(Dense(neurons, input_shape=(10,), activation='relu'))\n",
    "\tmodel.add(Dropout(dropout_rate))\n",
    "\tmodel.add(Dense(1, activation='sigmoid'))\n",
    " \n",
    "\tmodel.compile(loss='binary_crossentropy', optimizer=optimizer, metrics=['accuracy'])\n",
    "\treturn model"
   ]
  },
  {
   "cell_type": "code",
   "execution_count": 31,
   "id": "ce2ed11c",
   "metadata": {},
   "outputs": [],
   "source": [
    "optimizer = ['SGD', 'RMSprop', 'Adam']\n",
    "dropout_rate = [0.2, 0.3, 0.4, 0.5]\n",
    "neurons = [15, 20, 25, 30]\n",
    "\n",
    "param_grid = dict(model__optimizer=optimizer, model__dropout_rate=dropout_rate, \n",
    "                  model__neurons=neurons)"
   ]
  },
  {
   "cell_type": "code",
   "execution_count": 32,
   "id": "8f891f0c",
   "metadata": {},
   "outputs": [],
   "source": [
    "model = KerasClassifier(model=create_model, epochs=100, batch_size=10, verbose=0)"
   ]
  },
  {
   "cell_type": "code",
   "execution_count": 33,
   "id": "50149687",
   "metadata": {},
   "outputs": [],
   "source": [
    "grid = GridSearchCV(estimator=model, param_grid=param_grid, n_jobs=-1, cv=3).\n"
   ]
  },
  {
   "cell_type": "code",
   "execution_count": 34,
   "id": "1b8c4607",
   "metadata": {},
   "outputs": [],
   "source": [
    "grid_result = grid.fit(X, y_en)"
   ]
  },
  {
   "cell_type": "code",
   "execution_count": 35,
   "id": "808b087f",
   "metadata": {},
   "outputs": [
    {
     "name": "stdout",
     "output_type": "stream",
     "text": [
      "Best: 0.864196 using {'model__dropout_rate': 0.2, 'model__neurons': 30, 'model__optimizer': 'RMSprop'}\n",
      "0.830284 (0.010239) with: {'model__dropout_rate': 0.2, 'model__neurons': 15, 'model__optimizer': 'SGD'}\n",
      "0.858149 (0.004708) with: {'model__dropout_rate': 0.2, 'model__neurons': 15, 'model__optimizer': 'RMSprop'}\n",
      "0.851788 (0.008578) with: {'model__dropout_rate': 0.2, 'model__neurons': 15, 'model__optimizer': 'Adam'}\n",
      "0.834595 (0.002904) with: {'model__dropout_rate': 0.2, 'model__neurons': 20, 'model__optimizer': 'SGD'}\n",
      "0.860515 (0.004003) with: {'model__dropout_rate': 0.2, 'model__neurons': 20, 'model__optimizer': 'RMSprop'}\n",
      "0.857781 (0.001777) with: {'model__dropout_rate': 0.2, 'model__neurons': 20, 'model__optimizer': 'Adam'}\n",
      "0.836698 (0.002082) with: {'model__dropout_rate': 0.2, 'model__neurons': 25, 'model__optimizer': 'SGD'}\n",
      "0.858833 (0.004456) with: {'model__dropout_rate': 0.2, 'model__neurons': 25, 'model__optimizer': 'RMSprop'}\n",
      "0.861356 (0.004684) with: {'model__dropout_rate': 0.2, 'model__neurons': 25, 'model__optimizer': 'Adam'}\n",
      "0.835226 (0.004182) with: {'model__dropout_rate': 0.2, 'model__neurons': 30, 'model__optimizer': 'SGD'}\n",
      "0.864196 (0.001006) with: {'model__dropout_rate': 0.2, 'model__neurons': 30, 'model__optimizer': 'RMSprop'}\n",
      "0.862303 (0.001803) with: {'model__dropout_rate': 0.2, 'model__neurons': 30, 'model__optimizer': 'Adam'}\n",
      "0.818507 (0.005647) with: {'model__dropout_rate': 0.3, 'model__neurons': 15, 'model__optimizer': 'SGD'}\n",
      "0.845636 (0.004877) with: {'model__dropout_rate': 0.3, 'model__neurons': 15, 'model__optimizer': 'RMSprop'}\n",
      "0.849579 (0.004510) with: {'model__dropout_rate': 0.3, 'model__neurons': 15, 'model__optimizer': 'Adam'}\n",
      "0.832597 (0.010514) with: {'model__dropout_rate': 0.3, 'model__neurons': 20, 'model__optimizer': 'SGD'}\n",
      "0.852944 (0.004065) with: {'model__dropout_rate': 0.3, 'model__neurons': 20, 'model__optimizer': 'RMSprop'}\n",
      "0.853996 (0.001251) with: {'model__dropout_rate': 0.3, 'model__neurons': 20, 'model__optimizer': 'Adam'}\n",
      "0.828233 (0.009957) with: {'model__dropout_rate': 0.3, 'model__neurons': 25, 'model__optimizer': 'SGD'}\n",
      "0.856309 (0.003077) with: {'model__dropout_rate': 0.3, 'model__neurons': 25, 'model__optimizer': 'RMSprop'}\n",
      "0.856940 (0.000892) with: {'model__dropout_rate': 0.3, 'model__neurons': 25, 'model__optimizer': 'Adam'}\n",
      "0.832177 (0.003385) with: {'model__dropout_rate': 0.3, 'model__neurons': 30, 'model__optimizer': 'SGD'}\n",
      "0.855415 (0.000787) with: {'model__dropout_rate': 0.3, 'model__neurons': 30, 'model__optimizer': 'RMSprop'}\n",
      "0.857150 (0.003423) with: {'model__dropout_rate': 0.3, 'model__neurons': 30, 'model__optimizer': 'Adam'}\n",
      "0.812986 (0.004503) with: {'model__dropout_rate': 0.4, 'model__neurons': 15, 'model__optimizer': 'SGD'}\n",
      "0.841430 (0.004862) with: {'model__dropout_rate': 0.4, 'model__neurons': 15, 'model__optimizer': 'RMSprop'}\n",
      "0.846109 (0.003480) with: {'model__dropout_rate': 0.4, 'model__neurons': 15, 'model__optimizer': 'Adam'}\n",
      "0.821504 (0.005667) with: {'model__dropout_rate': 0.4, 'model__neurons': 20, 'model__optimizer': 'SGD'}\n",
      "0.848475 (0.000967) with: {'model__dropout_rate': 0.4, 'model__neurons': 20, 'model__optimizer': 'RMSprop'}\n",
      "0.847634 (0.003726) with: {'model__dropout_rate': 0.4, 'model__neurons': 20, 'model__optimizer': 'Adam'}\n",
      "0.824869 (0.003437) with: {'model__dropout_rate': 0.4, 'model__neurons': 25, 'model__optimizer': 'SGD'}\n",
      "0.850946 (0.002789) with: {'model__dropout_rate': 0.4, 'model__neurons': 25, 'model__optimizer': 'RMSprop'}\n",
      "0.854837 (0.004830) with: {'model__dropout_rate': 0.4, 'model__neurons': 25, 'model__optimizer': 'Adam'}\n",
      "0.824501 (0.005658) with: {'model__dropout_rate': 0.4, 'model__neurons': 30, 'model__optimizer': 'SGD'}\n",
      "0.855468 (0.002160) with: {'model__dropout_rate': 0.4, 'model__neurons': 30, 'model__optimizer': 'RMSprop'}\n",
      "0.855100 (0.001290) with: {'model__dropout_rate': 0.4, 'model__neurons': 30, 'model__optimizer': 'Adam'}\n",
      "0.810883 (0.006712) with: {'model__dropout_rate': 0.5, 'model__neurons': 15, 'model__optimizer': 'SGD'}\n",
      "0.819243 (0.016684) with: {'model__dropout_rate': 0.5, 'model__neurons': 15, 'model__optimizer': 'RMSprop'}\n",
      "0.821661 (0.005008) with: {'model__dropout_rate': 0.5, 'model__neurons': 15, 'model__optimizer': 'Adam'}\n",
      "0.816930 (0.009556) with: {'model__dropout_rate': 0.5, 'model__neurons': 20, 'model__optimizer': 'SGD'}\n",
      "0.832334 (0.006626) with: {'model__dropout_rate': 0.5, 'model__neurons': 20, 'model__optimizer': 'RMSprop'}\n",
      "0.840641 (0.004590) with: {'model__dropout_rate': 0.5, 'model__neurons': 20, 'model__optimizer': 'Adam'}\n",
      "0.819348 (0.005954) with: {'model__dropout_rate': 0.5, 'model__neurons': 25, 'model__optimizer': 'SGD'}\n",
      "0.843218 (0.006751) with: {'model__dropout_rate': 0.5, 'model__neurons': 25, 'model__optimizer': 'RMSprop'}\n",
      "0.843954 (0.009614) with: {'model__dropout_rate': 0.5, 'model__neurons': 25, 'model__optimizer': 'Adam'}\n",
      "0.826393 (0.007676) with: {'model__dropout_rate': 0.5, 'model__neurons': 30, 'model__optimizer': 'SGD'}\n",
      "0.848580 (0.001689) with: {'model__dropout_rate': 0.5, 'model__neurons': 30, 'model__optimizer': 'RMSprop'}\n",
      "0.853365 (0.001681) with: {'model__dropout_rate': 0.5, 'model__neurons': 30, 'model__optimizer': 'Adam'}\n"
     ]
    }
   ],
   "source": [
    "print(\"Best: %f using %s\" % (grid_result.best_score_, grid_result.best_params_))\n",
    "means = grid_result.cv_results_['mean_test_score']\n",
    "stds = grid_result.cv_results_['std_test_score']\n",
    "params = grid_result.cv_results_['params']\n",
    "for mean, stdev, param in zip(means, stds, params):\n",
    "    print(\"%f (%f) with: %r\" % (mean, stdev, param))"
   ]
  },
  {
   "cell_type": "code",
   "execution_count": null,
   "id": "1cf2a5f6",
   "metadata": {},
   "outputs": [],
   "source": []
  }
 ],
 "metadata": {
  "kernelspec": {
   "display_name": "Python 3 (ipykernel)",
   "language": "python",
   "name": "python3"
  },
  "language_info": {
   "codemirror_mode": {
    "name": "ipython",
    "version": 3
   },
   "file_extension": ".py",
   "mimetype": "text/x-python",
   "name": "python",
   "nbconvert_exporter": "python",
   "pygments_lexer": "ipython3",
   "version": "3.7.13"
  }
 },
 "nbformat": 4,
 "nbformat_minor": 5
}
